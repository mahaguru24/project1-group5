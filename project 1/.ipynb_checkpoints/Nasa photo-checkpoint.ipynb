{
 "cells": [
  {
   "cell_type": "code",
   "execution_count": null,
   "metadata": {},
   "outputs": [],
   "source": []
  },
  {
   "cell_type": "code",
   "execution_count": null,
   "metadata": {},
   "outputs": [],
   "source": [
    "#Import required libraries:\n",
    "import nasapy\n",
    "import os\n",
    "from datetime import datetime\n",
    "import urllib.request\n",
    "from IPython.display import Image,display,Audio\n",
    "from gtts import gTTS"
   ]
  },
  {
   "cell_type": "code",
   "execution_count": null,
   "metadata": {},
   "outputs": [],
   "source": [
    "#Initialize Nasa class by creating an object:\n",
    "k = \"UsgrwZHbDFHmCHMDc36qUJNdUf14fUnoAmV4ZGPc\"\n",
    "nasa = nasapy.Nasa(key = k)"
   ]
  },
  {
   "cell_type": "code",
   "execution_count": null,
   "metadata": {},
   "outputs": [],
   "source": [
    "#Get today's date in YYYY-MM-DD format:\n",
    "d = datetime.today().strftime('%Y-%m-%d')"
   ]
  },
  {
   "cell_type": "code",
   "execution_count": null,
   "metadata": {},
   "outputs": [],
   "source": [
    "#Get the image data:\n",
    "apod = nasa.picture_of_the_day(date=d, hd=True)\n"
   ]
  },
  {
   "cell_type": "code",
   "execution_count": null,
   "metadata": {},
   "outputs": [],
   "source": [
    "#POINT A:\n",
    "#Check the media type availble:\n",
    "if(apod[\"media_type\"] == \"image\"):\n",
    "    \n",
    "    #POINT B:\n",
    "    #Displaying hd images only:\n",
    "    if(\"hdurl\" in apod.keys()):\n",
    "        \n",
    "        #POINT C:\n",
    "        #Saving name for image:\n",
    "        title = d + \"_\" + apod[\"title\"].replace(\" \",\"_\").replace(\":\",\"_\") + \".jpg\"\n",
    "        \n",
    "        #POINT D:\n",
    "        #Path of the directory:\n",
    "        image_dir = \"./Astro_Images\"\n",
    "\n",
    "        #Checking if the directory already exist?\n",
    "        dir_res = os.path.exists(image_dir)\n",
    " \n",
    "        #If it doesn't exist then make a new directory:\n",
    "        if (dir_res==False):\n",
    "            os.makedirs(image_dir)\n",
    "\n",
    "        #If it exist then print a statement:\n",
    "        else:\n",
    "            print(\"Directory already exists!\\n\")\n",
    "        \n",
    "        #POINT E:\n",
    "        #Retrieving the image:\n",
    "        urllib.request.urlretrieve(url = apod[\"hdurl\"] , filename = os.path.join(image_dir,title))\n",
    "        \n",
    "        #POINT F:\n",
    "        #Displaying information related to image:\n",
    "        \n",
    "        if(\"date\" in apod.keys()):\n",
    "            print(\"Date image released: \",apod[\"date\"])\n",
    "            print(\"\\n\")\n",
    "        if(\"copyright\" in apod.keys()):\n",
    "            print(\"This image is owned by: \",apod[\"copyright\"])\n",
    "            print(\"\\n\")\n",
    "        if(\"title\" in apod.keys()):\n",
    "            print(\"Title of the image: \",apod[\"title\"])\n",
    "            print(\"\\n\")\n",
    "        if(\"explanation\" in apod.keys()):\n",
    "            print(\"Description for the image: \",apod[\"explanation\"])\n",
    "            print(\"\\n\")\n",
    "        if(\"hdurl\" in apod.keys()):\n",
    "            print(\"URL for this image: \",apod[\"hdurl\"])\n",
    "            print(\"\\n\")"
   ]
  },
  {
   "cell_type": "code",
   "execution_count": null,
   "metadata": {},
   "outputs": [],
   "source": [
    "#POINT G:\n",
    "        #Displaying main image:\n",
    "        display(Image(os.path.join(image_dir,title)))"
   ]
  },
  {
   "cell_type": "code",
   "execution_count": null,
   "metadata": {},
   "outputs": [],
   "source": [
    " #Point H:\n",
    "        #Text to Speech Conversion:\n",
    "        #Take input from user:\n",
    "        print(\"\\n\")\n",
    "        choice = input(\"Press * to hear the audio explanation : \")\n",
    "\n",
    "        if(choice==\"*\"):\n",
    "            #Text to be converted:\n",
    "            mytext = apod[\"explanation\"]\n",
    "            #mytext=\"Good Evening Pratik.\"\n",
    "\n",
    "            #Creating an object:\n",
    "            myobj = gTTS(text=mytext, lang=\"en\", slow=False) \n",
    "            \n",
    "            #Generating audio file name:\n",
    "            audio_title = d + \"_\" + apod[\"title\"] + \".mp3\"\n",
    "            \n",
    "            #Save the converted file:\n",
    "            myobj.save(os.path.join(image_dir,audio_title)) \n",
    "\n",
    "            #Name of sound file:\n",
    "            sound_file = os.path.join(image_dir,audio_title)\n",
    "\n",
    "            # Playing the converted file \n",
    "            display(Audio(sound_file, autoplay=True))\n",
    "            "
   ]
  },
  {
   "cell_type": "code",
   "execution_count": null,
   "metadata": {},
   "outputs": [],
   "source": [
    "#POINT I:\n",
    "#If media type is not image:\n",
    "else:\n",
    "    print(\"Sorry, Image not available!\")"
   ]
  },
  {
   "cell_type": "code",
   "execution_count": null,
   "metadata": {},
   "outputs": [],
   "source": []
  },
  {
   "cell_type": "code",
   "execution_count": null,
   "metadata": {},
   "outputs": [],
   "source": []
  },
  {
   "cell_type": "code",
   "execution_count": null,
   "metadata": {},
   "outputs": [],
   "source": []
  }
 ],
 "metadata": {
  "kernelspec": {
   "display_name": "Python 3 (ipykernel)",
   "language": "python",
   "name": "python3"
  },
  "language_info": {
   "codemirror_mode": {
    "name": "ipython",
    "version": 3
   },
   "file_extension": ".py",
   "mimetype": "text/x-python",
   "name": "python",
   "nbconvert_exporter": "python",
   "pygments_lexer": "ipython3",
   "version": "3.7.11"
  }
 },
 "nbformat": 4,
 "nbformat_minor": 4
}
