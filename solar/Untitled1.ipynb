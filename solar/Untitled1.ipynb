{
 "cells": [
  {
   "cell_type": "code",
   "execution_count": null,
   "id": "6c5011d1-ed22-4751-8618-ea95b7ffa5aa",
   "metadata": {},
   "outputs": [],
   "source": [
    "fermi_gbm_flare_list_2 = fermi_gbm_flare_list[[\"Flare\",\"Time\",\"Peak\",\"End\",\"Dur\",\"Peak\", \"Total\"]]"
   ]
  },
  {
   "cell_type": "code",
   "execution_count": null,
   "id": "b79f414e-d76c-4a3e-876c-bd5578f2531e",
   "metadata": {},
   "outputs": [],
   "source": [
    "# Drop nulls\n",
    "fermi_gbm_flare_list_2.dropna()\n",
    "fermi_gbm_flare_list_2.isnull().sum()"
   ]
  }
 ],
 "metadata": {
  "kernelspec": {
   "display_name": "Python 3 (ipykernel)",
   "language": "python",
   "name": "python3"
  },
  "language_info": {
   "codemirror_mode": {
    "name": "ipython",
    "version": 3
   },
   "file_extension": ".py",
   "mimetype": "text/x-python",
   "name": "python",
   "nbconvert_exporter": "python",
   "pygments_lexer": "ipython3",
   "version": "3.7.11"
  }
 },
 "nbformat": 4,
 "nbformat_minor": 5
}
