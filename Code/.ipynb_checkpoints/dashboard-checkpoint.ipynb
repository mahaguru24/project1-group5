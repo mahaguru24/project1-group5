{
 "cells": [
  {
   "cell_type": "code",
   "execution_count": null,
   "id": "83eeada8-c31a-4058-bc24-3751a0535e11",
   "metadata": {},
   "outputs": [],
   "source": [
    "# imports\n",
    "import os\n",
    "from dotenv import load_dotenv\n",
    "from pathlib import Path\n",
    "\n",
    "import panel as pn\n",
    "import plotly.express as px\n",
    "import pandas as pd\n",
    "import hvplot.pandas\n",
    "import matplotlib.pyplot as plt\n",
    "from panel.interact import interact\n",
    "pn.extension()\n",
    "\n",
    "# load before importing graphs as graphs needs env variables\n",
    "load_dotenv()\n",
    "\n",
    "import graphs\n",
    "import get_data"
   ]
  },
  {
   "cell_type": "code",
   "execution_count": null,
   "id": "75fb57fc-674c-4ef2-9c38-3165e7886b6b",
   "metadata": {},
   "outputs": [],
   "source": [
    "\n",
    "data = get_data.get_cleaned_alien_data().groupby('shape').count().reset_index()\n",
    "data\n",
    "# graphs.create_bar_chart(\n",
    "#     data[data['Number of Sightings'] > 100],\n",
    "#     x=\"city\",y='Number of Sightings',xlabel=\"Cities\",ylabel=\"Number of Sightings\",rot=90\n",
    "# )"
   ]
  },
  {
   "cell_type": "code",
   "execution_count": null,
   "id": "5d0cf0c0-9e3b-484f-ad8f-1452bb89e8e3",
   "metadata": {},
   "outputs": [],
   "source": [
    "data = get_data.get_alien_data().groupby('city').size().reset_index(name='Number of Sightings')\n",
    "graphs.create_bar_chart(\n",
    "    data[data['Number of Sightings'] > 100],\n",
    "    x=\"city\",y='Number of Sightings',xlabel=\"Cities\",ylabel=\"Number of Sightings\",rot=90\n",
    ")"
   ]
  },
  {
   "cell_type": "code",
   "execution_count": null,
   "id": "7411ba69",
   "metadata": {},
   "outputs": [],
   "source": [
    "# start plotting graphs\n",
    "# map_plot = graphs.create_scatter_plot(\n",
    "#     get_data.get_alien_data().groupby('city').size().reset_index(name='Number of Sightings'),\n",
    "#     size='Number of Sightings',\n",
    "#     lat=\"latitude\",\n",
    "#     lon=\"longitude\",\n",
    "#     color='Number of Sightings',\n",
    "#     hover_data=['country', 'day', 'month', 'time', 'shape', 'duration (seconds)', 'duration (hours/min)', 'comments' ],\n",
    "#     hover_name=\"city\",\n",
    "#     zoom=3\n",
    "# )\n",
    "\n",
    "# map_plot.show()"
   ]
  },
  {
   "cell_type": "code",
   "execution_count": null,
   "id": "1bdec0ae",
   "metadata": {},
   "outputs": [],
   "source": [
    "map_plot = graphs.create_scatter_plot(\n",
    "    get_data.get_military_bases(),\n",
    "    size='AREA',\n",
    "    lat=\"latitude\",\n",
    "    lon=\"longitude\",\n",
    "    color='AREA',\n",
    "    hover_data=['State Terr', 'COMPONENT', 'Joint Base','COUNTRY', 'Oper Stat', 'PERIMETER', 'AREA', 'Shape_Leng', 'Shape_Area'],\n",
    "    hover_name=\"Site Name\",\n",
    "    zoom=3\n",
    ")\n",
    "map_plot.show()"
   ]
  },
  {
   "cell_type": "code",
   "execution_count": null,
   "id": "ea7b9b80-ffb4-4f97-91fa-dd35b9fc0189",
   "metadata": {},
   "outputs": [],
   "source": []
  }
 ],
 "metadata": {
  "kernelspec": {
   "display_name": "Python 3 (ipykernel)",
   "language": "python",
   "name": "python3"
  },
  "language_info": {
   "codemirror_mode": {
    "name": "ipython",
    "version": 3
   },
   "file_extension": ".py",
   "mimetype": "text/x-python",
   "name": "python",
   "nbconvert_exporter": "python",
   "pygments_lexer": "ipython3",
   "version": "3.7.11"
  }
 },
 "nbformat": 4,
 "nbformat_minor": 5
}
